{
  "nbformat": 4,
  "nbformat_minor": 0,
  "metadata": {
    "colab": {
      "provenance": []
    },
    "kernelspec": {
      "name": "python3",
      "display_name": "Python 3"
    },
    "language_info": {
      "name": "python"
    }
  },
  "cells": [
    {
      "cell_type": "code",
      "execution_count": 1,
      "metadata": {
        "id": "4f2B53-kFdBf"
      },
      "outputs": [],
      "source": [
        "import pandas as pd\n",
        "import json\n",
        "import string\n",
        "import re\n",
        "import gdown"
      ]
    },
    {
      "cell_type": "code",
      "source": [
        "file_id = '1mQamm4bdhanJem51pXJgoLRgEeBVYeV1'\n",
        "url = f'https://drive.google.com/uc?export=download&id={file_id}'\n",
        "\n",
        "gdown.download(url, quiet=False)"
      ],
      "metadata": {
        "colab": {
          "base_uri": "https://localhost:8080/",
          "height": 122
        },
        "id": "i89WEsopHedu",
        "outputId": "46836bee-b16d-447a-a820-17d71b188383"
      },
      "execution_count": 2,
      "outputs": [
        {
          "output_type": "stream",
          "name": "stderr",
          "text": [
            "Downloading...\n",
            "From (original): https://drive.google.com/uc?export=download&id=1mQamm4bdhanJem51pXJgoLRgEeBVYeV1\n",
            "From (redirected): https://drive.google.com/uc?export=download&id=1mQamm4bdhanJem51pXJgoLRgEeBVYeV1&confirm=t&uuid=b89853d2-aab8-4ea0-83ce-d0bbd601e4dc\n",
            "To: /content/full_dublicat.json\n",
            "100%|██████████| 2.10G/2.10G [00:15<00:00, 134MB/s]\n"
          ]
        },
        {
          "output_type": "execute_result",
          "data": {
            "text/plain": [
              "'full_dublicat.json'"
            ],
            "application/vnd.google.colaboratory.intrinsic+json": {
              "type": "string"
            }
          },
          "metadata": {},
          "execution_count": 2
        }
      ]
    },
    {
      "cell_type": "code",
      "source": [
        "df = pd.read_json('/content/full_dublicat.json')"
      ],
      "metadata": {
        "id": "P1uGj9bfHhiV"
      },
      "execution_count": 21,
      "outputs": []
    },
    {
      "cell_type": "code",
      "source": [
        "text_to_remove = 'Hujjatga taklif yuborish Audioni tinglash'\n",
        "\n",
        "for i in range(len(df.related_texts)):\n",
        "    for j in range(len(df.related_texts[i])):\n",
        "        df.related_texts[i][j] = df.related_texts[i][j].replace(text_to_remove, \"\")"
      ],
      "metadata": {
        "id": "CzRwxooQIIBQ"
      },
      "execution_count": 22,
      "outputs": []
    },
    {
      "cell_type": "code",
      "source": [
        "# Retain only the first occurrence of each duplicate based on 'related_texts'\n",
        "df_uniques = df.drop_duplicates(subset=['related_texts'], keep='first')\n",
        "\n",
        "# Print the number of rows in the original and new DataFrames\n",
        "print(f\"Original DataFrame shape: {df.shape}\")\n",
        "print(f\"New DataFrame shape: {df_uniques.shape}\")"
      ],
      "metadata": {
        "colab": {
          "base_uri": "https://localhost:8080/"
        },
        "id": "AdyBdDzEUP5Q",
        "outputId": "ea7ef4a7-e6d9-46c9-fdf0-39c1c7968d12"
      },
      "execution_count": 24,
      "outputs": [
        {
          "output_type": "stream",
          "name": "stdout",
          "text": [
            "Original DataFrame shape: (792330, 2)\n",
            "New DataFrame shape: (59219, 2)\n"
          ]
        }
      ]
    },
    {
      "cell_type": "code",
      "source": [
        "df_uniques.head()"
      ],
      "metadata": {
        "colab": {
          "base_uri": "https://localhost:8080/",
          "height": 206
        },
        "id": "xcsJxKBseJk9",
        "outputId": "8d385a63-031a-446f-e4f0-9160befa54f7"
      },
      "execution_count": 25,
      "outputs": [
        {
          "output_type": "execute_result",
          "data": {
            "text/plain": [
              "                                           okoz_text  \\\n",
              "0  [1., 09.00.00.00 Tadbirkorlik va xo‘jalik faol...   \n",
              "1  [1., 01.00.00.00 Konstitutsiyaviy tuzum / 01.0...   \n",
              "2  [1., 01.00.00.00 Konstitutsiyaviy tuzum / 01.0...   \n",
              "3  [1., 03.00.00.00 Fuqarolik qonunchiligi / 03.0...   \n",
              "4  [1., 01.00.00.00 Konstitutsiyaviy tuzum / 01.0...   \n",
              "\n",
              "                                       related_texts  \n",
              "0  [ O‘zbekiston Respublikasi Prezidentining “Yan...  \n",
              "1  [ Ushbu Qonunning maqsadi O‘zbekiston Respubli...  \n",
              "2  [ Mamlakatimizda 2023-yil 30-aprel kuni o‘tkaz...  \n",
              "3  [ Ushbu Qonunning maqsadi davlat mulkini xusus...  \n",
              "4  [ 1. Quyidagilar:,  O‘zbekiston Respublikasi P...  "
            ],
            "text/html": [
              "\n",
              "  <div id=\"df-4988e62c-0926-41ca-8364-83ddad38a420\" class=\"colab-df-container\">\n",
              "    <div>\n",
              "<style scoped>\n",
              "    .dataframe tbody tr th:only-of-type {\n",
              "        vertical-align: middle;\n",
              "    }\n",
              "\n",
              "    .dataframe tbody tr th {\n",
              "        vertical-align: top;\n",
              "    }\n",
              "\n",
              "    .dataframe thead th {\n",
              "        text-align: right;\n",
              "    }\n",
              "</style>\n",
              "<table border=\"1\" class=\"dataframe\">\n",
              "  <thead>\n",
              "    <tr style=\"text-align: right;\">\n",
              "      <th></th>\n",
              "      <th>okoz_text</th>\n",
              "      <th>related_texts</th>\n",
              "    </tr>\n",
              "  </thead>\n",
              "  <tbody>\n",
              "    <tr>\n",
              "      <th>0</th>\n",
              "      <td>[1., 09.00.00.00 Tadbirkorlik va xo‘jalik faol...</td>\n",
              "      <td>[ O‘zbekiston Respublikasi Prezidentining “Yan...</td>\n",
              "    </tr>\n",
              "    <tr>\n",
              "      <th>1</th>\n",
              "      <td>[1., 01.00.00.00 Konstitutsiyaviy tuzum / 01.0...</td>\n",
              "      <td>[ Ushbu Qonunning maqsadi O‘zbekiston Respubli...</td>\n",
              "    </tr>\n",
              "    <tr>\n",
              "      <th>2</th>\n",
              "      <td>[1., 01.00.00.00 Konstitutsiyaviy tuzum / 01.0...</td>\n",
              "      <td>[ Mamlakatimizda 2023-yil 30-aprel kuni o‘tkaz...</td>\n",
              "    </tr>\n",
              "    <tr>\n",
              "      <th>3</th>\n",
              "      <td>[1., 03.00.00.00 Fuqarolik qonunchiligi / 03.0...</td>\n",
              "      <td>[ Ushbu Qonunning maqsadi davlat mulkini xusus...</td>\n",
              "    </tr>\n",
              "    <tr>\n",
              "      <th>4</th>\n",
              "      <td>[1., 01.00.00.00 Konstitutsiyaviy tuzum / 01.0...</td>\n",
              "      <td>[ 1. Quyidagilar:,  O‘zbekiston Respublikasi P...</td>\n",
              "    </tr>\n",
              "  </tbody>\n",
              "</table>\n",
              "</div>\n",
              "    <div class=\"colab-df-buttons\">\n",
              "\n",
              "  <div class=\"colab-df-container\">\n",
              "    <button class=\"colab-df-convert\" onclick=\"convertToInteractive('df-4988e62c-0926-41ca-8364-83ddad38a420')\"\n",
              "            title=\"Convert this dataframe to an interactive table.\"\n",
              "            style=\"display:none;\">\n",
              "\n",
              "  <svg xmlns=\"http://www.w3.org/2000/svg\" height=\"24px\" viewBox=\"0 -960 960 960\">\n",
              "    <path d=\"M120-120v-720h720v720H120Zm60-500h600v-160H180v160Zm220 220h160v-160H400v160Zm0 220h160v-160H400v160ZM180-400h160v-160H180v160Zm440 0h160v-160H620v160ZM180-180h160v-160H180v160Zm440 0h160v-160H620v160Z\"/>\n",
              "  </svg>\n",
              "    </button>\n",
              "\n",
              "  <style>\n",
              "    .colab-df-container {\n",
              "      display:flex;\n",
              "      gap: 12px;\n",
              "    }\n",
              "\n",
              "    .colab-df-convert {\n",
              "      background-color: #E8F0FE;\n",
              "      border: none;\n",
              "      border-radius: 50%;\n",
              "      cursor: pointer;\n",
              "      display: none;\n",
              "      fill: #1967D2;\n",
              "      height: 32px;\n",
              "      padding: 0 0 0 0;\n",
              "      width: 32px;\n",
              "    }\n",
              "\n",
              "    .colab-df-convert:hover {\n",
              "      background-color: #E2EBFA;\n",
              "      box-shadow: 0px 1px 2px rgba(60, 64, 67, 0.3), 0px 1px 3px 1px rgba(60, 64, 67, 0.15);\n",
              "      fill: #174EA6;\n",
              "    }\n",
              "\n",
              "    .colab-df-buttons div {\n",
              "      margin-bottom: 4px;\n",
              "    }\n",
              "\n",
              "    [theme=dark] .colab-df-convert {\n",
              "      background-color: #3B4455;\n",
              "      fill: #D2E3FC;\n",
              "    }\n",
              "\n",
              "    [theme=dark] .colab-df-convert:hover {\n",
              "      background-color: #434B5C;\n",
              "      box-shadow: 0px 1px 3px 1px rgba(0, 0, 0, 0.15);\n",
              "      filter: drop-shadow(0px 1px 2px rgba(0, 0, 0, 0.3));\n",
              "      fill: #FFFFFF;\n",
              "    }\n",
              "  </style>\n",
              "\n",
              "    <script>\n",
              "      const buttonEl =\n",
              "        document.querySelector('#df-4988e62c-0926-41ca-8364-83ddad38a420 button.colab-df-convert');\n",
              "      buttonEl.style.display =\n",
              "        google.colab.kernel.accessAllowed ? 'block' : 'none';\n",
              "\n",
              "      async function convertToInteractive(key) {\n",
              "        const element = document.querySelector('#df-4988e62c-0926-41ca-8364-83ddad38a420');\n",
              "        const dataTable =\n",
              "          await google.colab.kernel.invokeFunction('convertToInteractive',\n",
              "                                                    [key], {});\n",
              "        if (!dataTable) return;\n",
              "\n",
              "        const docLinkHtml = 'Like what you see? Visit the ' +\n",
              "          '<a target=\"_blank\" href=https://colab.research.google.com/notebooks/data_table.ipynb>data table notebook</a>'\n",
              "          + ' to learn more about interactive tables.';\n",
              "        element.innerHTML = '';\n",
              "        dataTable['output_type'] = 'display_data';\n",
              "        await google.colab.output.renderOutput(dataTable, element);\n",
              "        const docLink = document.createElement('div');\n",
              "        docLink.innerHTML = docLinkHtml;\n",
              "        element.appendChild(docLink);\n",
              "      }\n",
              "    </script>\n",
              "  </div>\n",
              "\n",
              "\n",
              "<div id=\"df-938b1a4e-ba26-4d68-ac5b-3c0eec49315f\">\n",
              "  <button class=\"colab-df-quickchart\" onclick=\"quickchart('df-938b1a4e-ba26-4d68-ac5b-3c0eec49315f')\"\n",
              "            title=\"Suggest charts\"\n",
              "            style=\"display:none;\">\n",
              "\n",
              "<svg xmlns=\"http://www.w3.org/2000/svg\" height=\"24px\"viewBox=\"0 0 24 24\"\n",
              "     width=\"24px\">\n",
              "    <g>\n",
              "        <path d=\"M19 3H5c-1.1 0-2 .9-2 2v14c0 1.1.9 2 2 2h14c1.1 0 2-.9 2-2V5c0-1.1-.9-2-2-2zM9 17H7v-7h2v7zm4 0h-2V7h2v10zm4 0h-2v-4h2v4z\"/>\n",
              "    </g>\n",
              "</svg>\n",
              "  </button>\n",
              "\n",
              "<style>\n",
              "  .colab-df-quickchart {\n",
              "      --bg-color: #E8F0FE;\n",
              "      --fill-color: #1967D2;\n",
              "      --hover-bg-color: #E2EBFA;\n",
              "      --hover-fill-color: #174EA6;\n",
              "      --disabled-fill-color: #AAA;\n",
              "      --disabled-bg-color: #DDD;\n",
              "  }\n",
              "\n",
              "  [theme=dark] .colab-df-quickchart {\n",
              "      --bg-color: #3B4455;\n",
              "      --fill-color: #D2E3FC;\n",
              "      --hover-bg-color: #434B5C;\n",
              "      --hover-fill-color: #FFFFFF;\n",
              "      --disabled-bg-color: #3B4455;\n",
              "      --disabled-fill-color: #666;\n",
              "  }\n",
              "\n",
              "  .colab-df-quickchart {\n",
              "    background-color: var(--bg-color);\n",
              "    border: none;\n",
              "    border-radius: 50%;\n",
              "    cursor: pointer;\n",
              "    display: none;\n",
              "    fill: var(--fill-color);\n",
              "    height: 32px;\n",
              "    padding: 0;\n",
              "    width: 32px;\n",
              "  }\n",
              "\n",
              "  .colab-df-quickchart:hover {\n",
              "    background-color: var(--hover-bg-color);\n",
              "    box-shadow: 0 1px 2px rgba(60, 64, 67, 0.3), 0 1px 3px 1px rgba(60, 64, 67, 0.15);\n",
              "    fill: var(--button-hover-fill-color);\n",
              "  }\n",
              "\n",
              "  .colab-df-quickchart-complete:disabled,\n",
              "  .colab-df-quickchart-complete:disabled:hover {\n",
              "    background-color: var(--disabled-bg-color);\n",
              "    fill: var(--disabled-fill-color);\n",
              "    box-shadow: none;\n",
              "  }\n",
              "\n",
              "  .colab-df-spinner {\n",
              "    border: 2px solid var(--fill-color);\n",
              "    border-color: transparent;\n",
              "    border-bottom-color: var(--fill-color);\n",
              "    animation:\n",
              "      spin 1s steps(1) infinite;\n",
              "  }\n",
              "\n",
              "  @keyframes spin {\n",
              "    0% {\n",
              "      border-color: transparent;\n",
              "      border-bottom-color: var(--fill-color);\n",
              "      border-left-color: var(--fill-color);\n",
              "    }\n",
              "    20% {\n",
              "      border-color: transparent;\n",
              "      border-left-color: var(--fill-color);\n",
              "      border-top-color: var(--fill-color);\n",
              "    }\n",
              "    30% {\n",
              "      border-color: transparent;\n",
              "      border-left-color: var(--fill-color);\n",
              "      border-top-color: var(--fill-color);\n",
              "      border-right-color: var(--fill-color);\n",
              "    }\n",
              "    40% {\n",
              "      border-color: transparent;\n",
              "      border-right-color: var(--fill-color);\n",
              "      border-top-color: var(--fill-color);\n",
              "    }\n",
              "    60% {\n",
              "      border-color: transparent;\n",
              "      border-right-color: var(--fill-color);\n",
              "    }\n",
              "    80% {\n",
              "      border-color: transparent;\n",
              "      border-right-color: var(--fill-color);\n",
              "      border-bottom-color: var(--fill-color);\n",
              "    }\n",
              "    90% {\n",
              "      border-color: transparent;\n",
              "      border-bottom-color: var(--fill-color);\n",
              "    }\n",
              "  }\n",
              "</style>\n",
              "\n",
              "  <script>\n",
              "    async function quickchart(key) {\n",
              "      const quickchartButtonEl =\n",
              "        document.querySelector('#' + key + ' button');\n",
              "      quickchartButtonEl.disabled = true;  // To prevent multiple clicks.\n",
              "      quickchartButtonEl.classList.add('colab-df-spinner');\n",
              "      try {\n",
              "        const charts = await google.colab.kernel.invokeFunction(\n",
              "            'suggestCharts', [key], {});\n",
              "      } catch (error) {\n",
              "        console.error('Error during call to suggestCharts:', error);\n",
              "      }\n",
              "      quickchartButtonEl.classList.remove('colab-df-spinner');\n",
              "      quickchartButtonEl.classList.add('colab-df-quickchart-complete');\n",
              "    }\n",
              "    (() => {\n",
              "      let quickchartButtonEl =\n",
              "        document.querySelector('#df-938b1a4e-ba26-4d68-ac5b-3c0eec49315f button');\n",
              "      quickchartButtonEl.style.display =\n",
              "        google.colab.kernel.accessAllowed ? 'block' : 'none';\n",
              "    })();\n",
              "  </script>\n",
              "</div>\n",
              "\n",
              "    </div>\n",
              "  </div>\n"
            ],
            "application/vnd.google.colaboratory.intrinsic+json": {
              "type": "dataframe",
              "variable_name": "df_uniques",
              "summary": "{\n  \"name\": \"df_uniques\",\n  \"rows\": 59219,\n  \"fields\": [\n    {\n      \"column\": \"okoz_text\",\n      \"properties\": {\n        \"dtype\": \"object\",\n        \"semantic_type\": \"\",\n        \"description\": \"\"\n      }\n    },\n    {\n      \"column\": \"related_texts\",\n      \"properties\": {\n        \"dtype\": \"object\",\n        \"semantic_type\": \"\",\n        \"description\": \"\"\n      }\n    }\n  ]\n}"
            }
          },
          "metadata": {},
          "execution_count": 25
        }
      ]
    },
    {
      "cell_type": "code",
      "source": [
        "df_uniques.to_csv('df_uniques.csv', index=False)"
      ],
      "metadata": {
        "id": "6d7wf_YKeMoE"
      },
      "execution_count": 26,
      "outputs": []
    },
    {
      "cell_type": "code",
      "source": [
        "def preprocess_okoz(df, number):\n",
        "    def contains_04_0(okoz_list):\n",
        "        return any(f'{number}.0' in item for item in okoz_list)#change\n",
        "\n",
        "    def filter_by_length(text_list):\n",
        "        return [text for text in text_list if len(text) > 4]\n",
        "\n",
        "    def keep_elements_starting_with_04(text_list):\n",
        "        return [element for element in text_list if element.startswith(f'{number}')] #change\n",
        "\n",
        "    def process_okoz_text(text_list):\n",
        "        return [text.split('/')[-1].strip() if '/' in text else text for text in text_list]\n",
        "\n",
        "    def has_minimum_elements(text_list, min_length=0):\n",
        "        return len(text_list) > min_length\n",
        "\n",
        "    def preprocess_text(text):\n",
        "        text = text.lower()\n",
        "        text = text.translate(str.maketrans('', '', string.punctuation))\n",
        "        return text\n",
        "\n",
        "    def remove_duplicates(text_list):\n",
        "        return list(set(text_list))\n",
        "\n",
        "    def remove_semicolons(text_list):\n",
        "        return [text.replace(';', '') for text in text_list]\n",
        "\n",
        "    df = df[df['okoz_text'].apply(contains_04_0)]\n",
        "    df.loc[:, 'okoz_text'] = df['okoz_text'].apply(filter_by_length)\n",
        "    df.loc[:, 'okoz_text'] = df['okoz_text'].apply(keep_elements_starting_with_04)\n",
        "    df.loc[:, 'okoz_text'] = df['okoz_text'].apply(process_okoz_text)\n",
        "    df = df[df['okoz_text'].apply(lambda x: has_minimum_elements(x))]\n",
        "    df.loc[:, 'okoz_text'] = df['okoz_text'].apply(remove_duplicates)\n",
        "    df.loc[:, 'okoz_text'] = df['okoz_text'].apply(remove_semicolons)\n",
        "    df = df[df['okoz_text'].apply(len) == 1]\n",
        "    df = df.reset_index(drop=True)\n",
        "    df.loc[:, 'okoz_text'] = df['okoz_text'].apply(lambda x: ' '.join(x))\n",
        "    return df"
      ],
      "metadata": {
        "id": "N5QKhMFjILTN"
      },
      "execution_count": 27,
      "outputs": []
    },
    {
      "cell_type": "code",
      "source": [
        "df_1 = preprocess_okoz(df_uniques, '01')\n",
        "df_2 = preprocess_okoz(df_uniques, '02')\n",
        "df_3 = preprocess_okoz(df_uniques, '03')\n",
        "df_4 = preprocess_okoz(df_uniques, '04')\n",
        "df_5 = preprocess_okoz(df_uniques, '05')\n",
        "df_6 = preprocess_okoz(df_uniques, '06')\n",
        "df_7 = preprocess_okoz(df_uniques, '07')\n",
        "df_8 = preprocess_okoz(df_uniques, '08')\n",
        "df_9 = preprocess_okoz(df_uniques, '09')\n",
        "df_10 = preprocess_okoz(df_uniques, '10')\n",
        "df_11 = preprocess_okoz(df_uniques, '11')\n",
        "df_12 = preprocess_okoz(df_uniques, '12')\n",
        "df_13 = preprocess_okoz(df_uniques, '13')\n",
        "df_14 = preprocess_okoz(df_uniques, '14')\n",
        "df_15 = preprocess_okoz(df_uniques, '15')\n",
        "df_16 = preprocess_okoz(df_uniques, '16')\n",
        "df_17 = preprocess_okoz(df_uniques, '17')\n",
        "df_18 = preprocess_okoz(df_uniques, '18')\n",
        "df_19 = preprocess_okoz(df_uniques, '19')\n",
        "df_20 = preprocess_okoz(df_uniques, '20')\n",
        "df_21 = preprocess_okoz(df_uniques, '21')"
      ],
      "metadata": {
        "id": "hYwkOiDeIOuH"
      },
      "execution_count": 28,
      "outputs": []
    },
    {
      "cell_type": "code",
      "source": [
        "df_all = pd.concat([df_1, df_2, df_3, df_4, df_5, df_6, df_7, df_8, df_9, df_10,\n",
        "                    df_11, df_12, df_13, df_14, df_15, df_16, df_17, df_18, df_19,\n",
        "                    df_20, df_21], ignore_index=True)"
      ],
      "metadata": {
        "id": "ImNI2722IQ-p"
      },
      "execution_count": 29,
      "outputs": []
    },
    {
      "cell_type": "code",
      "source": [
        "df_all['okoz_text'] = df_all['okoz_text'].str.replace('[', '', regex=False)\n",
        "df_all['okoz_text'] = df_all['okoz_text'].str.replace(']', '', regex=False)"
      ],
      "metadata": {
        "id": "OyjHN-KvIRu1"
      },
      "execution_count": 30,
      "outputs": []
    },
    {
      "cell_type": "code",
      "source": [
        "okoz_counts_df = pd.DataFrame({'okoz_text': df_all.okoz_text.value_counts().index,\n",
        "                               'count': df_all.okoz_text.value_counts().values})"
      ],
      "metadata": {
        "id": "BeVLV31wISnL"
      },
      "execution_count": 31,
      "outputs": []
    },
    {
      "cell_type": "code",
      "source": [
        "okoz_counts_df = okoz_counts_df.sort_values(by=['okoz_text'])"
      ],
      "metadata": {
        "id": "M4zYso1vITYU"
      },
      "execution_count": 32,
      "outputs": []
    },
    {
      "cell_type": "code",
      "source": [
        "okoz_counts_df.to_csv('okoz_fully.csv', index=False)"
      ],
      "metadata": {
        "id": "PAuvQw-LIUJZ"
      },
      "execution_count": 35,
      "outputs": []
    },
    {
      "cell_type": "code",
      "source": [
        "df_all.to_csv('df_full_with.csv', index=False)"
      ],
      "metadata": {
        "id": "QzzpPQcYIUhh"
      },
      "execution_count": 34,
      "outputs": []
    },
    {
      "cell_type": "code",
      "source": [
        "total_duplicates = 0\n",
        "for text_list in df_all['related_texts']:\n",
        "  unique_texts = set(text_list)\n",
        "  total_duplicates += len(text_list) - len(unique_texts)\n",
        "\n",
        "print(f\"Total duplicates in 'related_texts': {total_duplicates}\")"
      ],
      "metadata": {
        "colab": {
          "base_uri": "https://localhost:8080/"
        },
        "id": "cUzzWD06LiYZ",
        "outputId": "72b7c2e4-d0c7-43d6-facd-73313a2eac02"
      },
      "execution_count": 19,
      "outputs": [
        {
          "output_type": "stream",
          "name": "stdout",
          "text": [
            "Total duplicates in 'related_texts': 248718\n"
          ]
        }
      ]
    },
    {
      "cell_type": "code",
      "source": [
        "# prompt: for each dubllicate stay only one and remove others\n",
        "\n",
        "import pandas as pd\n",
        "# Create an empty list to store the unique rows\n",
        "unique_rows = []\n",
        "\n",
        "# Iterate over the DataFrame\n",
        "for index, row in df_all.iterrows():\n",
        "  # Check if the row is already in the unique_rows list\n",
        "  if row['related_texts'] not in [r['related_texts'] for r in unique_rows]:\n",
        "    # If not, add it to the list\n",
        "    unique_rows.append(row.to_dict())\n",
        "\n",
        "# Create a new DataFrame from the unique rows\n",
        "df_unique = pd.DataFrame(unique_rows)\n",
        "\n",
        "# Print the number of rows in the original and new DataFrames\n",
        "print(f\"Original DataFrame shape: {df_all.shape}\")\n",
        "print(f\"New DataFrame shape: {df_unique.shape}\")\n"
      ],
      "metadata": {
        "id": "uXfuZhx7LmyL"
      },
      "execution_count": null,
      "outputs": []
    },
    {
      "cell_type": "code",
      "source": [
        "import pandas as pd\n",
        "# Create an empty list to store the unique rows\n",
        "unique_rows = []\n",
        "\n",
        "# Iterate over the DataFrame\n",
        "for index, row in df_all.iterrows():\n",
        "  # Check if the row is already in the unique_rows list\n",
        "  if row['related_texts'] not in [r['related_texts'] for r in unique_rows]:\n",
        "    # If not, add it to the list\n",
        "    unique_rows.append(row.to_dict())\n",
        "\n",
        "# Create a new DataFrame from the unique rows\n",
        "df_unique = pd.DataFrame(unique_rows)\n",
        "\n",
        "# Print the number of rows in the original and new DataFrames\n",
        "print(f\"Original DataFrame shape: {df_all.shape}\")\n",
        "print(f\"New DataFrame shape: {df_unique.shape}\")\n"
      ],
      "metadata": {
        "colab": {
          "base_uri": "https://localhost:8080/",
          "height": 332
        },
        "id": "OMMkFqm5MHVm",
        "outputId": "d92a5e96-1cf2-4fdc-d0b6-c3dd637a5b42"
      },
      "execution_count": 20,
      "outputs": [
        {
          "output_type": "error",
          "ename": "KeyboardInterrupt",
          "evalue": "",
          "traceback": [
            "\u001b[0;31m---------------------------------------------------------------------------\u001b[0m",
            "\u001b[0;31mKeyboardInterrupt\u001b[0m                         Traceback (most recent call last)",
            "\u001b[0;32m<ipython-input-20-4818d29ba239>\u001b[0m in \u001b[0;36m<cell line: 6>\u001b[0;34m()\u001b[0m\n\u001b[1;32m      6\u001b[0m \u001b[0;32mfor\u001b[0m \u001b[0mindex\u001b[0m\u001b[0;34m,\u001b[0m \u001b[0mrow\u001b[0m \u001b[0;32min\u001b[0m \u001b[0mdf_all\u001b[0m\u001b[0;34m.\u001b[0m\u001b[0miterrows\u001b[0m\u001b[0;34m(\u001b[0m\u001b[0;34m)\u001b[0m\u001b[0;34m:\u001b[0m\u001b[0;34m\u001b[0m\u001b[0;34m\u001b[0m\u001b[0m\n\u001b[1;32m      7\u001b[0m   \u001b[0;31m# Check if the row is already in the unique_rows list\u001b[0m\u001b[0;34m\u001b[0m\u001b[0;34m\u001b[0m\u001b[0m\n\u001b[0;32m----> 8\u001b[0;31m   \u001b[0;32mif\u001b[0m \u001b[0mrow\u001b[0m\u001b[0;34m[\u001b[0m\u001b[0;34m'related_texts'\u001b[0m\u001b[0;34m]\u001b[0m \u001b[0;32mnot\u001b[0m \u001b[0;32min\u001b[0m \u001b[0;34m[\u001b[0m\u001b[0mr\u001b[0m\u001b[0;34m[\u001b[0m\u001b[0;34m'related_texts'\u001b[0m\u001b[0;34m]\u001b[0m \u001b[0;32mfor\u001b[0m \u001b[0mr\u001b[0m \u001b[0;32min\u001b[0m \u001b[0munique_rows\u001b[0m\u001b[0;34m]\u001b[0m\u001b[0;34m:\u001b[0m\u001b[0;34m\u001b[0m\u001b[0;34m\u001b[0m\u001b[0m\n\u001b[0m\u001b[1;32m      9\u001b[0m     \u001b[0;31m# If not, add it to the list\u001b[0m\u001b[0;34m\u001b[0m\u001b[0;34m\u001b[0m\u001b[0m\n\u001b[1;32m     10\u001b[0m     \u001b[0munique_rows\u001b[0m\u001b[0;34m.\u001b[0m\u001b[0mappend\u001b[0m\u001b[0;34m(\u001b[0m\u001b[0mrow\u001b[0m\u001b[0;34m.\u001b[0m\u001b[0mto_dict\u001b[0m\u001b[0;34m(\u001b[0m\u001b[0;34m)\u001b[0m\u001b[0;34m)\u001b[0m\u001b[0;34m\u001b[0m\u001b[0;34m\u001b[0m\u001b[0m\n",
            "\u001b[0;32m<ipython-input-20-4818d29ba239>\u001b[0m in \u001b[0;36m<listcomp>\u001b[0;34m(.0)\u001b[0m\n\u001b[1;32m      6\u001b[0m \u001b[0;32mfor\u001b[0m \u001b[0mindex\u001b[0m\u001b[0;34m,\u001b[0m \u001b[0mrow\u001b[0m \u001b[0;32min\u001b[0m \u001b[0mdf_all\u001b[0m\u001b[0;34m.\u001b[0m\u001b[0miterrows\u001b[0m\u001b[0;34m(\u001b[0m\u001b[0;34m)\u001b[0m\u001b[0;34m:\u001b[0m\u001b[0;34m\u001b[0m\u001b[0;34m\u001b[0m\u001b[0m\n\u001b[1;32m      7\u001b[0m   \u001b[0;31m# Check if the row is already in the unique_rows list\u001b[0m\u001b[0;34m\u001b[0m\u001b[0;34m\u001b[0m\u001b[0m\n\u001b[0;32m----> 8\u001b[0;31m   \u001b[0;32mif\u001b[0m \u001b[0mrow\u001b[0m\u001b[0;34m[\u001b[0m\u001b[0;34m'related_texts'\u001b[0m\u001b[0;34m]\u001b[0m \u001b[0;32mnot\u001b[0m \u001b[0;32min\u001b[0m \u001b[0;34m[\u001b[0m\u001b[0mr\u001b[0m\u001b[0;34m[\u001b[0m\u001b[0;34m'related_texts'\u001b[0m\u001b[0;34m]\u001b[0m \u001b[0;32mfor\u001b[0m \u001b[0mr\u001b[0m \u001b[0;32min\u001b[0m \u001b[0munique_rows\u001b[0m\u001b[0;34m]\u001b[0m\u001b[0;34m:\u001b[0m\u001b[0;34m\u001b[0m\u001b[0;34m\u001b[0m\u001b[0m\n\u001b[0m\u001b[1;32m      9\u001b[0m     \u001b[0;31m# If not, add it to the list\u001b[0m\u001b[0;34m\u001b[0m\u001b[0;34m\u001b[0m\u001b[0m\n\u001b[1;32m     10\u001b[0m     \u001b[0munique_rows\u001b[0m\u001b[0;34m.\u001b[0m\u001b[0mappend\u001b[0m\u001b[0;34m(\u001b[0m\u001b[0mrow\u001b[0m\u001b[0;34m.\u001b[0m\u001b[0mto_dict\u001b[0m\u001b[0;34m(\u001b[0m\u001b[0;34m)\u001b[0m\u001b[0;34m)\u001b[0m\u001b[0;34m\u001b[0m\u001b[0;34m\u001b[0m\u001b[0m\n",
            "\u001b[0;31mKeyboardInterrupt\u001b[0m: "
          ]
        }
      ]
    },
    {
      "cell_type": "code",
      "source": [
        "import pandas as pd\n",
        "# Create an empty list to store the unique rows\n",
        "uniques_rows = []\n",
        "\n",
        "# Iterate over the DataFrame\n",
        "for index, row in df.iterrows():\n",
        "  # Check if the row is already in the unique_rows list\n",
        "  if row['related_texts'] not in [r['related_texts'] for r in uniques_rows]:\n",
        "    # If not, add it to the list\n",
        "    uniques_rows.append(row.to_dict())\n",
        "\n",
        "# Create a new DataFrame from the unique rows\n",
        "df_uniques = pd.DataFrame(uniques_rows)\n",
        "\n",
        "# Print the number of rows in the original and new DataFrames\n",
        "print(f\"Original DataFrame shape: {df.shape}\")\n",
        "print(f\"New DataFrame shape: {df_uniques.shape}\")\n"
      ],
      "metadata": {
        "id": "DL20Go96OujJ"
      },
      "execution_count": null,
      "outputs": []
    }
  ]
}